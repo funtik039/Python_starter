{
 "cells": [
  {
   "cell_type": "code",
   "execution_count": 3,
   "id": "current-hollow",
   "metadata": {},
   "outputs": [
    {
     "name": "stdout",
     "output_type": "stream",
     "text": [
      "Сколько Вам чашек кофе?20\n",
      "Всего Вы полчаете 23. 3 - бесплатно!\n"
     ]
    }
   ],
   "source": [
    "cup_cout_str = input('Сколько Вам чашек кофе?')\n",
    "cup_count = int(cup_cout_str)\n",
    "free_cup_count = cup_count / 6\n",
    "free_cup = int(free_cup_count)\n",
    "all_cups = free_cup + cup_count\n",
    "print(f\"Всего Вы полчаете {all_cups}. {free_cup} - бесплатно!\")"
   ]
  },
  {
   "cell_type": "code",
   "execution_count": 14,
   "id": "handed-crazy",
   "metadata": {},
   "outputs": [
    {
     "name": "stdout",
     "output_type": "stream",
     "text": [
      "Введите х координату точки а3\n",
      "Введите y координату точки a4\n",
      "Введите х координату точки b8\n",
      "Введите y координату точки b9\n",
      "Расстояние равно 7.071\n"
     ]
    }
   ],
   "source": [
    "ax = input('Введите х координату точки а')\n",
    "ax = int(ax)\n",
    "ay = input('Введите y координату точки a')\n",
    "ay = int(ay)\n",
    "bx = input('Введите х координату точки b')\n",
    "bx = int(bx)\n",
    "by = input('Введите y координату точки b')\n",
    "by = int(by)\n",
    "import math\n",
    "#d = math.sqrt((bx-ax)**2+(by-ay)**2)\n",
    "#print(f\"Расстояние равно {d:1.3f}\")\n",
    "d = round(((bx-ax)**2+(by-ay)**2)**0.5 , 3)\n",
    "print(f\"Расстояние равно {d}\")"
   ]
  },
  {
   "cell_type": "code",
   "execution_count": 13,
   "id": "standing-leisure",
   "metadata": {},
   "outputs": [
    {
     "name": "stdout",
     "output_type": "stream",
     "text": [
      "Введите ко-во коров1\n",
      "Введите кол-во свинок1\n",
      "Введите кол-во куриц1\n",
      "Всего ног - 10\n"
     ]
    }
   ],
   "source": [
    "cow = int(input('Введите ко-во коров'))\n",
    "#cow = int(cow)\n",
    "pig = input('Введите кол-во свинок')\n",
    "pig = int(pig)\n",
    "chi = input('Введите кол-во куриц')\n",
    "chi = int(chi)\n",
    "\n",
    "legs = cow*4 + pig*4 + chi*2\n",
    "print(f\"Всего ног - {legs}\")\n"
   ]
  }
 ],
 "metadata": {
  "kernelspec": {
   "display_name": "Python 3",
   "language": "python",
   "name": "python3"
  }
 },
 "nbformat": 4,
 "nbformat_minor": 5
}
