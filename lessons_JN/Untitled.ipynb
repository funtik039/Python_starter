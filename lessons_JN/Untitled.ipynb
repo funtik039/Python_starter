{
 "cells": [
  {
   "cell_type": "code",
   "execution_count": 14,
   "id": "essential-capital",
   "metadata": {},
   "outputs": [
    {
     "name": "stdout",
     "output_type": "stream",
     "text": [
      "Введите кол-во звёздочек6\n",
      "******\n"
     ]
    }
   ],
   "source": [
    "str_count = int(input('Введите кол-во звёздочек'))\n",
    "str = \"*\" * str_count\n",
    "print(str)"
   ]
  },
  {
   "cell_type": "code",
   "execution_count": null,
   "id": "greater-thickness",
   "metadata": {},
   "outputs": [],
   "source": [
    "rows = int(input('Введите кол-во звёздочек'))\n",
    "for x in range(rows):\n",
    "    print(\"*\" * x)"
   ]
  },
  {
   "cell_type": "code",
   "execution_count": null,
   "id": "forced-spotlight",
   "metadata": {},
   "outputs": [],
   "source": [
    "s = 'GitHub.io'\n",
    "print(s[3:5])\n",
    "\n",
    "#\n",
    "s[2:-2]\n",
    "#\n",
    "s[:6]\n",
    "#\n",
    "s[1:]\n",
    "#\n",
    "s[:]\n",
    "#"
   ]
  },
  {
   "cell_type": "code",
   "execution_count": null,
   "id": "later-spank",
   "metadata": {},
   "outputs": [],
   "source": []
  }
 ],
 "metadata": {
  "kernelspec": {
   "display_name": "Python 3",
   "language": "python",
   "name": "python3"
  },
  "language_info": {
   "codemirror_mode": {
    "name": "ipython",
    "version": 3
   },
   "file_extension": ".py",
   "mimetype": "text/x-python",
   "name": "python",
   "nbconvert_exporter": "python",
   "pygments_lexer": "ipython3",
   "version": "3.8.2"
  }
 },
 "nbformat": 4,
 "nbformat_minor": 5
}
