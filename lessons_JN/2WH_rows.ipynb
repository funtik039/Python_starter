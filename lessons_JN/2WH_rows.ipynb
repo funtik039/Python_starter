{
 "cells": [
  {
   "cell_type": "code",
   "execution_count": 19,
   "id": "lasting-adoption",
   "metadata": {},
   "outputs": [
    {
     "name": "stdout",
     "output_type": "stream",
     "text": [
      "Введите кол-во звёздочек6\n",
      "*\n",
      "**\n",
      "***\n",
      "****\n",
      "*****\n",
      "******\n"
     ]
    }
   ],
   "source": [
    "rows = int(input('Введите кол-во звёздочек'))\n",
    "for x in range(rows):\n",
    "    print(\"*\" * (x+1))"
   ]
  },
  {
   "cell_type": "code",
   "execution_count": 28,
   "id": "automatic-liver",
   "metadata": {
    "scrolled": true
   },
   "outputs": [
    {
     "name": "stdout",
     "output_type": "stream",
     "text": [
      "Введите число1\n",
      "0 is EVEN\n",
      "1 is ODD\n"
     ]
    }
   ],
   "source": [
    "number = int(input('Введите число'))\n",
    "for x in range(number+1):\n",
    "    if x % 2 == 0:\n",
    "        print(f'{x} is EVEN')\n",
    "    elif x % 2 != 0:\n",
    "        print(f'{x} is ODD')"
   ]
  },
  {
   "cell_type": "code",
   "execution_count": 33,
   "id": "reserved-crossing",
   "metadata": {},
   "outputs": [
    {
     "name": "stdout",
     "output_type": "stream",
     "text": [
      "33\n"
     ]
    }
   ],
   "source": [
    "import sys\n",
    "\n",
    "limit = 10\n",
    "\n",
    "# ниже ваше решение:\n",
    "sum = 0\n",
    "for x in range(limit+1):\n",
    "    if x % 3 == 0 or x % 5 == 0:\n",
    "        sum = sum + x\n",
    "print (sum)"
   ]
  },
  {
   "cell_type": "code",
   "execution_count": 35,
   "id": "amateur-battle",
   "metadata": {},
   "outputs": [
    {
     "name": "stdout",
     "output_type": "stream",
     "text": [
      "[1, 3, 5, 6, 8, 10, 12]\n"
     ]
    }
   ],
   "source": [
    "first_lst = [1,2,3,4,5]\n",
    "second_lst = [6,7,8,9,10,11,12]\n",
    "joined_list = []\n",
    "for x in first_lst:\n",
    "    if x % 2 != 0:\n",
    "        joined_list.append(x)\n",
    "for y in second_lst:\n",
    "    if y % 2 == 0:\n",
    "        joined_list.append(y)\n",
    "print(joined_list)"
   ]
  },
  {
   "cell_type": "code",
   "execution_count": 58,
   "id": "dynamic-anthropology",
   "metadata": {},
   "outputs": [
    {
     "name": "stdout",
     "output_type": "stream",
     "text": [
      "2\n"
     ]
    }
   ],
   "source": [
    "current_hand = [2, 3, 4, 10, 'Q', 5]\n",
    "cards_sum = 0\n",
    "cards_dict = {1:1,2:1,3:1,4:1,5:1,6:1,7:0,8:0,9:0,10:-1,'J':-1,'Q':-1,'K':-1,'A':-1}\n",
    "for i in current_hand:\n",
    "    cards_sum = cards_sum + cards_dict.get(i)\n",
    "print(cards_sum)"
   ]
  }
 ],
 "metadata": {
  "kernelspec": {
   "display_name": "Python 3",
   "language": "python",
   "name": "python3"
  },
  "language_info": {
   "codemirror_mode": {
    "name": "ipython",
    "version": 3
   },
   "file_extension": ".py",
   "mimetype": "text/x-python",
   "name": "python",
   "nbconvert_exporter": "python",
   "pygments_lexer": "ipython3",
   "version": "3.8.2"
  }
 },
 "nbformat": 4,
 "nbformat_minor": 5
}
